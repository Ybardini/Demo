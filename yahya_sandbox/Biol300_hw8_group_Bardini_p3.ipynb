{
  "nbformat": 4,
  "nbformat_minor": 0,
  "metadata": {
    "colab": {
      "name": "Biol300_hw8_group_Bardini_p3.ipynb",
      "provenance": [],
      "collapsed_sections": [],
      "include_colab_link": true
    },
    "kernelspec": {
      "name": "python3",
      "display_name": "Python 3"
    },
    "language_info": {
      "name": "python"
    }
  },
  "cells": [
    {
      "cell_type": "markdown",
      "metadata": {
        "id": "view-in-github",
        "colab_type": "text"
      },
      "source": [
        "<a href=\"https://colab.research.google.com/github/Ybardini/Demo/blob/master/yahya_sandbox/Biol300_hw8_group_Bardini_p3.ipynb\" target=\"_parent\"><img src=\"https://colab.research.google.com/assets/colab-badge.svg\" alt=\"Open In Colab\"/></a>"
      ]
    },
    {
      "cell_type": "markdown",
      "source": [
        "This problem will explore Fisher's argument that Mendel's data were *too good*. [You can read more about the controversy here](https://www.colorado.edu/physics/sites/default/files/attached-files/mendelfishercontroversy.pdf). That is, Fisher suspected that the results that Mendel presented from his pea experiments did not vary much as would be expected. To put this to the test, we will simulate Mendel's crossing experiments many times over and see how his published results compare with the simulations.\n",
        "\n",
        "Below I set up most of the simulation for you. Your remaining task will be to conduct the simulation many times over, computing a desired test statistic each time, and then comparing to the real data to the simulated data.\n",
        "\n",
        "# The simulation"
      ],
      "metadata": {
        "id": "dYwYXBmw7S7G"
      }
    },
    {
      "cell_type": "code",
      "execution_count": 1,
      "metadata": {
        "id": "hRc_nbsUxX_w"
      },
      "outputs": [],
      "source": [
        "import random\n",
        "import matplotlib.pyplot as plt\n",
        "import seaborn as sns\n",
        "import numpy as np\n",
        "sns.set()"
      ]
    },
    {
      "cell_type": "markdown",
      "source": [
        "Let's have python flip a coin for us! If you hit the \"play\" button below multiple times, you will see the output will switch from heads `'H'` to tails `'T'` randomly."
      ],
      "metadata": {
        "id": "7Snb0f8Q2BN2"
      }
    },
    {
      "cell_type": "code",
      "source": [
        "# coin flip for heads or tails\n",
        "random.choice([\"H\",\"T\"])"
      ],
      "metadata": {
        "colab": {
          "base_uri": "https://localhost:8080/",
          "height": 35
        },
        "id": "2Cw4h9FtxzRe",
        "outputId": "22f56a72-8601-414e-a2fd-0c2fbe360098"
      },
      "execution_count": 2,
      "outputs": [
        {
          "output_type": "execute_result",
          "data": {
            "text/plain": [
              "'T'"
            ],
            "application/vnd.google.colaboratory.intrinsic+json": {
              "type": "string"
            }
          },
          "metadata": {},
          "execution_count": 2
        }
      ]
    },
    {
      "cell_type": "markdown",
      "source": [
        "We can now \"flip a coin\" twice to construct a genotype. Again, if you run this cell of code multiple times, you may see different results each time."
      ],
      "metadata": {
        "id": "8NDiqaUM2J_Q"
      }
    },
    {
      "cell_type": "code",
      "source": [
        "# two coin flips, one for each allele\n",
        "allele1 = random.choice([\"H\",\"T\"])\n",
        "allele2 = random.choice([\"H\",\"T\"])\n",
        "\n",
        "# construct the genotype from the two alleles\n",
        "genotype = allele1 + allele2\n",
        "\n",
        "# display the genotype\n",
        "print(genotype)"
      ],
      "metadata": {
        "colab": {
          "base_uri": "https://localhost:8080/"
        },
        "id": "o6MjJ3xFx-Fv",
        "outputId": "c8389a3b-11b4-4939-94f2-93191f0448a3"
      },
      "execution_count": 3,
      "outputs": [
        {
          "output_type": "stream",
          "name": "stdout",
          "text": [
            "TT\n"
          ]
        }
      ]
    },
    {
      "cell_type": "markdown",
      "source": [
        "Now let's map these coin flips onto a phenotype of interest. As an example, we can correspond the `TT` genotype to green peas and all other genotypes to yellow peas. "
      ],
      "metadata": {
        "id": "_yqDpp-zNeeK"
      }
    },
    {
      "cell_type": "code",
      "source": [
        "# TT genotype corresponds to green phenotype\n",
        "if genotype == \"TT\":\n",
        "  phenotype = \"green\"\n",
        "\n",
        "# all other genotypes correspond to yellow phenotype\n",
        "else: \n",
        "  phenotype = \"yellow\"\n",
        "\n",
        "# display the resulting phenotype\n",
        "print(phenotype)"
      ],
      "metadata": {
        "colab": {
          "base_uri": "https://localhost:8080/"
        },
        "id": "ZFSWnavAPUAZ",
        "outputId": "3e35a24b-b05a-4c60-dc6d-a4f32a487656"
      },
      "execution_count": 4,
      "outputs": [
        {
          "output_type": "stream",
          "name": "stdout",
          "text": [
            "green\n"
          ]
        }
      ]
    },
    {
      "cell_type": "markdown",
      "source": [
        "Now let's simulate 100 \"coin flips\" as a way to get a percent of yellow peas from a Mendelian experiment. For this, we will simulate *each* plant in turn doing a set of coin flips and recording their genotype as a combination of heads and tails."
      ],
      "metadata": {
        "id": "JlmSEd-O2cP8"
      }
    },
    {
      "cell_type": "code",
      "source": [
        "def sim_coinflips(num_plants = 100):\n",
        "\n",
        "  # start a counter for yellow peas\n",
        "  yellow_count = 0\n",
        "\n",
        "  # repeat coin flips for each student\n",
        "  for i in range(num_plants):\n",
        "    \n",
        "    # do coin flips to make genotype\n",
        "    allele1 = random.choice([\"H\",\"T\"])\n",
        "    allele2 = random.choice([\"H\",\"T\"])\n",
        "    genotype = allele1 + allele2\n",
        "\n",
        "    # add to yellow counter if the genotpye is anything other than TT\n",
        "    if genotype != \"TT\":\n",
        "      yellow_count = yellow_count + 1\n",
        "\n",
        "  # return a precentage of yellow\n",
        "  return yellow_count*100 / num_plants\n"
      ],
      "metadata": {
        "id": "SKXPvb0syXMA"
      },
      "execution_count": 5,
      "outputs": []
    },
    {
      "cell_type": "markdown",
      "source": [
        "Below we can now try out this simulation. If you run it multiple times, it should return a different answer each time. Should generally be around 75, but can sometimes be higher or lower. This demonstrates the **real** variability that can arise in biology!"
      ],
      "metadata": {
        "id": "zpOvj-f525y0"
      }
    },
    {
      "cell_type": "code",
      "source": [
        "sim_coinflips()"
      ],
      "metadata": {
        "colab": {
          "base_uri": "https://localhost:8080/"
        },
        "id": "dBV-mDZu0FBj",
        "outputId": "326aa572-21d7-49e7-a861-596d08142374"
      },
      "execution_count": 6,
      "outputs": [
        {
          "output_type": "execute_result",
          "data": {
            "text/plain": [
              "74.0"
            ]
          },
          "metadata": {},
          "execution_count": 6
        }
      ]
    },
    {
      "cell_type": "markdown",
      "source": [
        "Finally, we can simulate Mendel's **real** experiments and see how much they deviate from the expected 75%. In this case, instead of running the simulation for just 100 plants, we can run it for the true number of plants he looked at, whether it was 580 or 8023. \n",
        "\n",
        "By repeatedly running these simulations we can get a sense of how surprising Mendel's results were."
      ],
      "metadata": {
        "id": "cgRaNIF8HqJD"
      }
    },
    {
      "cell_type": "code",
      "source": [
        "# gene 1, shape of seeds\n",
        "percent_dominant = sim_coinflips(num_plants=7324)\n",
        "print(\"Percent dominant:\", np.round(percent_dominant, 2))\n",
        "\n",
        "# gene 2, color of cotyledons\n",
        "percent_dominant = sim_coinflips(num_plants=8023)\n",
        "print(\"Percent dominant:\", np.round(percent_dominant, 2))\n",
        "\n",
        "# gene 3, color of seed coats\n",
        "percent_dominant = sim_coinflips(num_plants=929)\n",
        "print(\"Percent dominant:\", np.round(percent_dominant, 2))\n",
        "\n",
        "# gene 4, shape of pod\n",
        "percent_dominant = sim_coinflips(num_plants=1181)\n",
        "print(\"Percent dominant:\", np.round(percent_dominant, 2))\n",
        "\n",
        "# gene 5, color of pod\n",
        "percent_dominant = sim_coinflips(num_plants=580)\n",
        "print(\"Percent dominant:\", np.round(percent_dominant, 2))\n",
        "\n",
        "# gene 6, distirbution of flowers\n",
        "percent_dominant = sim_coinflips(num_plants=858)\n",
        "print(\"Percent dominant:\", np.round(percent_dominant, 2))\n",
        "\n",
        "# gene 7, height of plant\n",
        "percent_dominant = sim_coinflips(num_plants=1064)\n",
        "print(\"Percent dominant:\", np.round(percent_dominant, 2))"
      ],
      "metadata": {
        "colab": {
          "base_uri": "https://localhost:8080/"
        },
        "id": "0blgB_oG4M8C",
        "outputId": "fe83299d-4b93-4976-fbb1-6b79d689c8b8"
      },
      "execution_count": 7,
      "outputs": [
        {
          "output_type": "stream",
          "name": "stdout",
          "text": [
            "Percent dominant: 74.75\n",
            "Percent dominant: 75.22\n",
            "Percent dominant: 76.0\n",
            "Percent dominant: 74.85\n",
            "Percent dominant: 76.38\n",
            "Percent dominant: 76.11\n",
            "Percent dominant: 75.38\n"
          ]
        }
      ]
    },
    {
      "cell_type": "markdown",
      "source": [
        "# Problem 3 (30 points)\n",
        "\n",
        "A. For each of the seven traits in turn, simulate Mendel's experiment 1000 times, keeping in mind that Mendel looked at a different number of plants for each trait. Report a 95% confidence interval for each trait. "
      ],
      "metadata": {
        "id": "-TCPGSVrCwaH"
      }
    },
    {
      "cell_type": "code",
      "source": [
        "reps = 1000\n",
        "seeds = np.zeros(reps)\n",
        "cotyledons = np.zeros(reps)\n",
        "coats = np.zeros(reps)\n",
        "podshapes = np.zeros(reps)\n",
        "podcolors = np.zeros(reps)\n",
        "flowers = np.zeros(reps)\n",
        "heights = np.zeros(reps)\n",
        "datas = [seeds, cotyledons, coats, podshapes, podcolors, flowers, heights]\n",
        "\n",
        "for i in range(reps):\n",
        "  seeds[i] = np.round(sim_coinflips(num_plants=7324), 2)\n",
        "  cotyledons[i] = np.round(sim_coinflips(num_plants=8023), 2)\n",
        "  coats[i] = np.round(sim_coinflips(num_plants=929), 2)\n",
        "  podshapes[i] = np.round(sim_coinflips(num_plants=1181), 2)\n",
        "  podcolors[i] = np.round(sim_coinflips(num_plants=580), 2)\n",
        "  flowers[i] = np.round(sim_coinflips(num_plants=858), 2)\n",
        "  heights[i] = np.round(sim_coinflips(num_plants=1064), 2)"
      ],
      "metadata": {
        "id": "JE6_ccWeTz85"
      },
      "execution_count": 8,
      "outputs": []
    },
    {
      "cell_type": "code",
      "source": [
        "indreps = [7324, 8023, 929, 1181, 580, 858, 1064]"
      ],
      "metadata": {
        "id": "J6KPFVnKnD7I"
      },
      "execution_count": 34,
      "outputs": []
    },
    {
      "cell_type": "code",
      "source": [
        "boundlower = []\n",
        "boundupper = []\n",
        "percentile025 = int(.025*reps)\n",
        "percentile975 = int(.975*reps)\n",
        "for data in datas:\n",
        "  data.sort()\n",
        "  boundlower.append(data[percentile025])\n",
        "  boundupper.append(data[percentile975])\n",
        "headers = ['Seeds', 'Cotyledons', 'Coats', 'Shape of Pods', 'Color of Pods', 'Flowers', 'Heights']\n",
        "for i in range(7): \n",
        "  print(headers[i], '('+f'{float(boundlower[i]):.2f}'+', '+f'{float(boundupper[i]):.2f}'+')')"
      ],
      "metadata": {
        "colab": {
          "base_uri": "https://localhost:8080/"
        },
        "id": "yRdGzt1Z4vnk",
        "outputId": "c21b085e-89a9-488d-8ba7-929e38edb0cc"
      },
      "execution_count": 9,
      "outputs": [
        {
          "output_type": "stream",
          "name": "stdout",
          "text": [
            "Seeds (74.00, 75.96)\n",
            "Cotyledons (73.99, 75.96)\n",
            "Coats (72.12, 77.72)\n",
            "Shape of Pods (72.65, 77.65)\n",
            "Color of Pods (71.55, 78.28)\n",
            "Flowers (72.26, 77.86)\n",
            "Heights (72.37, 77.73)\n"
          ]
        }
      ]
    },
    {
      "cell_type": "markdown",
      "source": [
        "B. From Mendel's results (shown in class), how many of the traits lie within the confidence intervals you reported? Does this lead credence to Fisher's claim that Mendel's data were \"too good\"?"
      ],
      "metadata": {
        "id": "Sga1hSQCT0ZP"
      }
    },
    {
      "cell_type": "code",
      "source": [
        "mendels = [74.7, 75.1, 75.9, 74.7, 73.8, 75.9, 74.0]"
      ],
      "metadata": {
        "id": "Dbik9IQN5gHC"
      },
      "execution_count": 10,
      "outputs": []
    },
    {
      "cell_type": "markdown",
      "source": [
        "Shape of seeds is within the range.\n",
        "Colour of Cotyledons is within the range.\n",
        "Colour of seed coats is within the range.\n",
        "Shape of Pod is within the range.\n",
        "Colour of pod is within the range.\n",
        "Dsitribution of flowers is within the range.\n",
        "Height of plant is within the range.\n",
        "\n",
        "Therefore, it does not lead credence to fisher's claim that mendel's data were too good."
      ],
      "metadata": {
        "id": "eq_upASu5tyN"
      }
    },
    {
      "cell_type": "markdown",
      "source": [
        "C. To further assess if Mendel's results are better than expected, the test statistic we will be using is the total deviation from 75% across the seven experiments. Look at the data shared in class, and for each pea phenotype calculate how much the percentage deviates from the expected 75%. What is the total deviation as summed up for all seven traits? Make sure to use the absolute value!"
      ],
      "metadata": {
        "id": "gfNrcnH5UIug"
      }
    },
    {
      "cell_type": "code",
      "source": [
        "variations = []\n",
        "for value in mendels:\n",
        "  diff = np.abs(value-75.0)\n",
        "  if diff <0:\n",
        "    diff*=-1\n",
        "  variations.append(diff)\n",
        "sum = 0\n",
        "for value in variations:\n",
        "  sum+=value\n",
        "print(np.round(sum, 2))"
      ],
      "metadata": {
        "id": "oI21G7rfUuS0",
        "colab": {
          "base_uri": "https://localhost:8080/"
        },
        "outputId": "64cf1e61-d246-4a3d-d7b8-11a02e4835b6"
      },
      "execution_count": 11,
      "outputs": [
        {
          "output_type": "stream",
          "name": "stdout",
          "text": [
            "4.7\n"
          ]
        }
      ]
    },
    {
      "cell_type": "markdown",
      "source": [
        "D. Simulate Mendel's entire set of 7 experiments 1,000 times. For each simulation, record the total deviation from the expected 75%, summed up for all the seven traits. Again, we want the absolute value here, since we care about the total deviation from expected."
      ],
      "metadata": {
        "id": "tB6a3F44cLqR"
      }
    },
    {
      "cell_type": "code",
      "source": [
        "def varcalc(datas):\n",
        "  loop = -1\n",
        "  for dataset in datas:\n",
        "    variations = []\n",
        "    sum = 0\n",
        "    loop+=1\n",
        "    for value in dataset:\n",
        "      diff = value-75.0\n",
        "      sum+=diff\n",
        "      if sum <0:\n",
        "        sum*=-1\n",
        "    print(headers[loop]+' has a variation of '+f'{float(np.round(sum, 2)):.2f}')\n",
        "\n"
      ],
      "metadata": {
        "id": "22i9w-go7JtJ"
      },
      "execution_count": 22,
      "outputs": []
    },
    {
      "cell_type": "code",
      "source": [
        "varcalc(datas)"
      ],
      "metadata": {
        "id": "Ss52HjrrQ3DO",
        "colab": {
          "base_uri": "https://localhost:8080/"
        },
        "outputId": "b03527cb-8ff1-42dc-ac4b-86eb8a341e08"
      },
      "execution_count": 23,
      "outputs": [
        {
          "output_type": "stream",
          "name": "stdout",
          "text": [
            "Seeds has a variation of 201.35\n",
            "Cotyledons has a variation of 193.64\n",
            "Coats has a variation of 581.02\n",
            "Shape of Pods has a variation of 516.17\n",
            "Color of Pods has a variation of 702.20\n",
            "Flowers has a variation of 559.19\n",
            "Heights has a variation of 549.50\n"
          ]
        }
      ]
    },
    {
      "cell_type": "markdown",
      "source": [
        "E. Plot an ECDF of your simulated results. By eye, about what percentage of results were \"as good\" or better than Mendel's results? Remember we are testing Fisher's argument that Mendel's data were \"too good\", so were are looking for results with deviation equal to or less than what Mendel really saw."
      ],
      "metadata": {
        "id": "2Jdx7VvGdJsi"
      }
    },
    {
      "cell_type": "code",
      "source": [
        "def ecdf(data):\n",
        "  \"\"\"Generate x and y values for plotting an ECDF.\"\"\"\n",
        "  x_vals = np.sort(data)\n",
        "  y_vals = np.arange(1, len(data)+1) / len(data)\n",
        "  \n",
        "  return x_vals, y_vals"
      ],
      "metadata": {
        "id": "SqICDHaBnRSL"
      },
      "execution_count": 24,
      "outputs": []
    },
    {
      "cell_type": "code",
      "source": [
        "for value in variations:\n",
        "  if value < 0 :\n",
        "    value*=-1\n",
        "print(variations)"
      ],
      "metadata": {
        "colab": {
          "base_uri": "https://localhost:8080/"
        },
        "id": "-ojObBy8k2d4",
        "outputId": "d1eb2a14-2300-44f6-a852-8f9f3bc49a26"
      },
      "execution_count": 27,
      "outputs": [
        {
          "output_type": "stream",
          "name": "stdout",
          "text": [
            "[0.29999999999999716, 0.09999999999999432, 0.9000000000000057, 0.29999999999999716, 1.2000000000000028, 0.9000000000000057, 1.0]\n"
          ]
        }
      ]
    },
    {
      "cell_type": "code",
      "source": [
        "proportions = []\n",
        "extremes = 0\n",
        "iteration = -1\n",
        "\n",
        "for category in datas:\n",
        "  iteration +=1\n",
        "\n",
        "  x, y = ecdf(category)\n",
        "  plt.plot(x,y)\n",
        "\n",
        "  for point in category:\n",
        "\n",
        "    variation = np.abs(point-75.0)\n",
        "\n",
        "    if variation >= variations[iteration]:\n",
        "      extremes+=1\n",
        "\n",
        "      cat = list(category)\n",
        "    if cat[cat.index(point)] == cat[-1]:\n",
        "\n",
        "      proportions.append([headers[iteration], extremes])\n",
        "      \n",
        "      extremes = 0\n"
      ],
      "metadata": {
        "id": "FGlnli3ibbYK",
        "colab": {
          "base_uri": "https://localhost:8080/",
          "height": 268
        },
        "outputId": "70dcf932-93a7-47f2-81e9-01821c732b88"
      },
      "execution_count": 32,
      "outputs": [
        {
          "output_type": "display_data",
          "data": {
            "text/plain": [
              "<Figure size 432x288 with 1 Axes>"
            ],
            "image/png": "[encoded data removed]"
          },
          "metadata": {
            "needs_background": "light"
          }
        }
      ]
    },
    {
      "cell_type": "code",
      "source": [
        "print(proportions)"
      ],
      "metadata": {
        "colab": {
          "base_uri": "https://localhost:8080/"
        },
        "id": "YIkBwsfNmbI_",
        "outputId": "97443887-190e-483f-eb5d-2aec75f225b6"
      },
      "execution_count": 33,
      "outputs": [
        {
          "output_type": "stream",
          "name": "stdout",
          "text": [
            "[['Seeds', 568], ['Cotyledons', 855], ['Coats', 551], ['Shape of Pods', 833], ['Color of Pods', 522], ['Color of Pods', 1], ['Flowers', 508], ['Heights', 467]]\n"
          ]
        }
      ]
    },
    {
      "cell_type": "code",
      "source": [
        "del proportions[5]\n",
        "proportions[4][1] = 523\n",
        "print(proportions)"
      ],
      "metadata": {
        "colab": {
          "base_uri": "https://localhost:8080/"
        },
        "id": "y9fBmkafnagy",
        "outputId": "4172dccf-54ab-4896-8f16-540716c487de"
      },
      "execution_count": 36,
      "outputs": [
        {
          "output_type": "stream",
          "name": "stdout",
          "text": [
            "[['Seeds', 568], ['Cotyledons', 855], ['Coats', 551], ['Shape of Pods', 833], ['Color of Pods', 523], ['Flowers', 508], ['Heights', 467]]\n"
          ]
        }
      ]
    },
    {
      "cell_type": "markdown",
      "source": [
        "F. Compute a p-value from your simulated results. Do you agree with Fisher's argument that Mendel's data were too good?"
      ],
      "metadata": {
        "id": "reLE0aqweHha"
      }
    },
    {
      "cell_type": "code",
      "source": [
        "pvals = []\n",
        "iteration = 0\n",
        "\n",
        "for pair in proportions:\n",
        "\n",
        "  pval = pair[-1]/indreps[iteration]\n",
        "  pvals.append(pval)\n",
        "\n",
        "  iteration+=1\n",
        "  \n",
        "print(pvals)\n"
      ],
      "metadata": {
        "id": "N1Zr46ITc5KO",
        "colab": {
          "base_uri": "https://localhost:8080/"
        },
        "outputId": "b60d8d6b-10bf-4dc1-d60c-b28d529ad191"
      },
      "execution_count": 38,
      "outputs": [
        {
          "output_type": "stream",
          "name": "stdout",
          "text": [
            "[0.07755324959038777, 0.10656861523121026, 0.5931108719052745, 0.7053344623200677, 0.9017241379310345, 0.5920745920745921, 0.43890977443609025]\n"
          ]
        }
      ]
    },
    {
      "cell_type": "markdown",
      "source": [
        "***at the alpha = .05 level, all pvalues>alpha therefore we fail to reject the null hypothesis that Medel's results are not too good, and do not have sufficient evidence to conclude his results were too good***"
      ],
      "metadata": {
        "id": "wyCGTgikrIHM"
      }
    }
  ]
}